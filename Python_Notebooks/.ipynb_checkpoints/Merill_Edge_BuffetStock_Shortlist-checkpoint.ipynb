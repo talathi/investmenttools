{
 "cells": [
  {
   "cell_type": "markdown",
   "metadata": {},
   "source": [
    "####  Notebook to download and analyze Finance Data for short list of Warren Buffet Stocks from Merill Edge \n"
   ]
  },
  {
   "cell_type": "code",
   "execution_count": 1,
   "metadata": {
    "collapsed": false
   },
   "outputs": [],
   "source": [
    "import numpy as np\n",
    "import matplotlib\n",
    "matplotlib.use('TKAgg')\n",
    "%matplotlib inline\n",
    "import pylab as py\n",
    "py.ion()\n",
    "import pandas as pd\n",
    "import sys,os\n",
    "import datetime\n",
    "\n",
    "HOME=os.environ['HOME']\n",
    "file_path = os.path.dirname(os.path.realpath('__file__'))\n",
    "\n",
    "sys_path='%s/..'%file_path\n",
    "sys.path.append(sys_path)\n",
    "from investmenttools import PortfolioBuilder as PB\n",
    "reload(PB)\n",
    "from investmenttools import ReadMagicFormulaList as RF\n",
    "reload(RF)\n",
    "from investmenttools import Intrinsic_Value as IV\n",
    "reload(IV)\n",
    "\n",
    "M=RF.ReadMagicFormula('abc@abc.com','abc')\n"
   ]
  },
  {
   "cell_type": "code",
   "execution_count": 10,
   "metadata": {
    "collapsed": false
   },
   "outputs": [
    {
     "name": "stdout",
     "output_type": "stream",
     "text": [
      "   Symbol 1 Year Change\n",
      "0     AAP        -40.99\n",
      "1    CRTO        -38.43\n",
      "2     CPL        -26.78\n",
      "3      KR        -19.24\n",
      "4     CPB           -19\n",
      "5    SABR        -16.26\n",
      "6   DISCA        -15.64\n",
      "7     OMC        -14.56\n",
      "8    ORLY        -14.31\n",
      "9     IPG        -13.53\n",
      "10    CAH        -13.34\n",
      "11     WU        -12.48\n",
      "12   PDCO        -11.22\n",
      "13    HOG        -10.37\n"
     ]
    }
   ],
   "source": [
    "## Get the list of WB stocks from downloaded file\n",
    "csvfile='%s/Work/DataSets/WB_Stocks/WB_Screener_20171225.csv'%HOME\n",
    "stklist=pd.read_csv(csvfile)\n",
    "stklist.head(5)\n",
    "stklist['1 Year Change'].replace('--',0.0,inplace=True)\n",
    "stklist.dropna(inplace=True)\n",
    "## Get short list of stocks that have fallen greater \n",
    "#than 10 % in last year\n",
    "shortList=stklist[stklist['1 Year Change'].astype(float)<-10]\n",
    "print shortList[['Symbol','1 Year Change']]"
   ]
  },
  {
   "cell_type": "code",
   "execution_count": 4,
   "metadata": {
    "collapsed": false
   },
   "outputs": [
    {
     "name": "stdout",
     "output_type": "stream",
     "text": [
      "***** Get Financial Data from Morningstar *********\n"
     ]
    }
   ],
   "source": [
    "## Get The data for these shortlisted stocks\n",
    "SaveDir='%s/Work/DataSets/WB_Stocks/Data'%HOME\n",
    "Dir=M.GetMorningStartData(shortList['Symbol'],'WBStocks',savedir=SaveDir,virtual_display=True)\n",
    "print Dir"
   ]
  },
  {
   "cell_type": "code",
   "execution_count": 5,
   "metadata": {
    "collapsed": false
   },
   "outputs": [
    {
     "name": "stdout",
     "output_type": "stream",
     "text": [
      "ORLY\n",
      "WU\n",
      "CAH\n",
      "CPL\n",
      "OMC\n",
      "CRTO\n",
      "CPB\n",
      "SABR\n",
      "HOG\n",
      "PDCO\n",
      "IPG\n",
      "KR\n",
      "DISCA\n",
      "AAP\n"
     ]
    }
   ],
   "source": [
    "## Append the data with valuation information such as PE, PB etc..\n",
    "IV.AppendStockDataFromFolder(Dir)"
   ]
  },
  {
   "cell_type": "code",
   "execution_count": 6,
   "metadata": {
    "collapsed": false
   },
   "outputs": [
    {
     "name": "stdout",
     "output_type": "stream",
     "text": [
      "At ER: 10 and Default CAGR: 8\n",
      "Stock| Price   | Intrin Val| CAGR\n",
      "*********************************\n",
      " AAP |  100.55|    37.16|  2.73\n",
      " OMC |   73.61|    59.23|  5.35\n",
      "PDCO |   36.25|    26.43|  8.00\n",
      "CRTO |   25.36|    35.49| 14.71\n",
      " CPL |   11.13|     0.00|  8.00\n",
      " HOG |   51.84|    25.70|  1.64\n",
      "DISCA|   23.73|    14.96|  5.31\n",
      " WU  |   19.08|     6.72|  8.00\n",
      "SABR |   20.76|     7.97|  8.00\n",
      " CAH |   62.49|    28.16|  0.84\n",
      " KR  |   28.25|    19.62|  6.66\n",
      " CPB |   48.77|    27.93|  2.11\n",
      " IPG |   20.39|    18.00|  6.44\n",
      "ORLY |  242.50|   201.85|  8.00\n",
      "***** List of Stocks that meet CAGR>=8.0 and Expected-Return >=10.0 Criterion******\n",
      "CRTO |   25.36|    35.49| 14.71 |3943\n",
      "At ER: 10 and Default CAGR: 8\n",
      "Stock| Price   | Intrin Val| CAGR\n",
      "*********************************\n",
      " AAP |  100.55|    58.47|  4.70\n",
      " OMC |   73.61|    92.05|  7.23\n",
      "PDCO |   36.25|    30.59|  8.00\n",
      "CRTO |   25.36|    33.72|  8.00\n",
      " CPL |   11.13|     0.00|  8.00\n",
      " HOG |   51.84|    25.70|  1.64\n",
      "DISCA|   23.73|    14.96|  5.31\n",
      " WU  |   19.08|     8.15|  8.00\n",
      "SABR |   20.76|     7.97|  8.00\n",
      " CAH |   62.49|    40.67|  2.87\n",
      " KR  |   28.25|    30.27|  8.00\n",
      " CPB |   48.77|    33.49|  2.12\n",
      " IPG |   20.39|    28.66|  8.00\n",
      "ORLY |  242.50|   498.88|  8.00\n",
      "***** List of Stocks that meet CAGR>=8.0 and Expected-Return >=10.0 Criterion******\n",
      " OMC |   73.61|    92.05|  7.23 | 339\n",
      " KR  |   28.25|    30.27|  8.00 | 884\n",
      " IPG |   20.39|    28.66|  8.00 |1226\n",
      "ORLY |  242.50|   498.88|  8.00 | 103\n"
     ]
    }
   ],
   "source": [
    "## Get list of stocks with min CAGR\n",
    "IV.IntrinsicValues(Dir,ER=10,Provided_CAGR=8,cagr_method='min')\n",
    "## Get list of stocks with avg CAGR\n",
    "IV.IntrinsicValues(Dir,ER=10,Provided_CAGR=8,cagr_method='avg')"
   ]
  }
 ],
 "metadata": {
  "kernelspec": {
   "display_name": "Python 2",
   "language": "python",
   "name": "python2"
  },
  "language_info": {
   "codemirror_mode": {
    "name": "ipython",
    "version": 2
   },
   "file_extension": ".py",
   "mimetype": "text/x-python",
   "name": "python",
   "nbconvert_exporter": "python",
   "pygments_lexer": "ipython2",
   "version": "2.7.12"
  }
 },
 "nbformat": 4,
 "nbformat_minor": 1
}

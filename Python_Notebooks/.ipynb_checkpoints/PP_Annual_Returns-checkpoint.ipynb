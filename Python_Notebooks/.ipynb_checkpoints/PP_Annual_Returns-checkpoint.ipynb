{
 "cells": [
  {
   "cell_type": "markdown",
   "metadata": {},
   "source": [
    "####  Permanent Portfolio\n",
    "* This notebook looks at performance of PP to offer some empirical evidence for the claim that PP can offer virtually- risk-free investment vehicle"
   ]
  },
  {
   "cell_type": "code",
   "execution_count": 28,
   "metadata": {
    "collapsed": false
   },
   "outputs": [],
   "source": [
    "### Setup the environment\n",
    "import os,sys\n",
    "import pandas as pd\n",
    "import pandas_datareader as web\n",
    "import numpy as np\n",
    "from datetime import datetime as dt\n",
    "import matplotlib\n",
    "%matplotlib inline\n",
    "import pylab as py\n",
    "py.ion()\n",
    "\n",
    "import scipy as sp\n",
    "import scipy.optimize as scopt\n",
    "import scipy.stats as spstats\n",
    "\n",
    "file_path = os.path.dirname(os.path.realpath('__file__'))\n",
    "sys_path='%s/..'%file_path\n",
    "sys.path.append(sys_path)\n",
    "from investmenttools import PortfolioBuilder as PB\n",
    "reload(PB)\n",
    "\n",
    "pd.set_option('display.notebook_repr_html', False)\n",
    "pd.set_option('display.max_columns', 6)\n",
    "pd.set_option('display.max_rows', 10)\n",
    "pd.set_option('display.width', 78)\n",
    "pd.set_option('precision', 3)"
   ]
  },
  {
   "cell_type": "code",
   "execution_count": 13,
   "metadata": {
    "collapsed": false
   },
   "outputs": [
    {
     "data": {
      "text/plain": [
       "             iau    shy    tlt    itot\n",
       "Date                                  \n",
       "2005-01-28  4.27  81.41  91.45  25.812\n",
       "2005-01-31  4.23  81.40  91.71  26.075\n",
       "2005-02-01  4.21  81.25  91.22  26.233\n",
       "2005-02-02  4.22  81.22  91.43  26.343\n",
       "2005-02-03  4.17  81.17  91.38  26.225"
      ]
     },
     "execution_count": 13,
     "metadata": {},
     "output_type": "execute_result"
    }
   ],
   "source": [
    "## Get Portfolio\n",
    "## It turns out that google only had historical data for ITOT from 2013 \n",
    "## I Therefore had to download ITOT data from Yahoo Finance as a csv file\n",
    "\n",
    "partial_data=PB.get_historical_closes(['shy','tlt','iau'],dt(2005,1,1),dt(2017,8,26))\n",
    "itot_data=pd.read_csv('%s/../Data/ITOT.csv'%file_path)\n",
    "itot_data.set_index('Date',inplace=True)\n",
    "itot=itot_data['Close']\n",
    "portfolio=pd.concat([partial_data,itot],axis=1)\n",
    "portfolio.rename(columns={'Close':'itot'},inplace=True)\n",
    "portfolio.dropna(inplace=True)\n",
    "portfolio.head(5)\n",
    "\n",
    "portfolio_list=list(portfolio.columns)"
   ]
  },
  {
   "cell_type": "code",
   "execution_count": 25,
   "metadata": {
    "collapsed": false
   },
   "outputs": [
    {
     "data": {
      "text/plain": [
       "             iau    shy    tlt    itot\n",
       "Date                                  \n",
       "2005-01-28  4.27  81.41  91.45  25.812\n",
       "2005-01-31  4.23  81.40  91.71  26.075\n",
       "2005-02-01  4.21  81.25  91.22  26.233\n",
       "2005-02-02  4.22  81.22  91.43  26.343\n",
       "2005-02-03  4.17  81.17  91.38  26.225\n",
       "...          ...    ...    ...     ...\n",
       "2005-12-23  5.02  80.44  91.80  28.198\n",
       "2005-12-27  5.06  80.45  92.55  27.945\n",
       "2005-12-28  5.15  80.30  91.91  27.990\n",
       "2005-12-29  5.16  80.24  92.10  27.862\n",
       "2005-12-30  5.17  80.21  91.90  27.745\n",
       "\n",
       "[234 rows x 4 columns]"
      ]
     },
     "execution_count": 25,
     "metadata": {},
     "output_type": "execute_result"
    }
   ],
   "source": [
    "## Play Cell\n",
    "\n",
    "stk=portfolio[portfolio.index>=dt(2005,1,1)][portfolio.index<=dt(2005,12,31)]"
   ]
  },
  {
   "cell_type": "code",
   "execution_count": 27,
   "metadata": {
    "collapsed": false
   },
   "outputs": [
    {
     "name": "stdout",
     "output_type": "stream",
     "text": [
      "['iau', 'shy', 'tlt', 'itot'] 2005-01-01 00:00:00 2005-12-31 00:00:00\n"
     ]
    },
    {
     "data": {
      "text/plain": [
       "              iau    shy     tlt  ...    N_tlt  N_itot   Cash\n",
       "Date                              ...                        \n",
       "2017-08-25  12.42  84.65  127.32  ...     27.0    96.0  112.6\n",
       "\n",
       "[1 rows x 10 columns]"
      ]
     },
     "execution_count": 27,
     "metadata": {},
     "output_type": "execute_result"
    }
   ],
   "source": [
    "reload(PB)\n",
    "portfolio_list=list(portfolio.columns)\n",
    "val=PB.Backtest_Annual_Rebalance(portfolio_list,[.25,.25,.25,.25],dt(2005,1,1),dt(2005,12,31)\\\n",
    "                                       ,initial=10000,stk_data=portfolio)\n",
    "val.tail(1)\n"
   ]
  },
  {
   "cell_type": "code",
   "execution_count": 73,
   "metadata": {
    "collapsed": false
   },
   "outputs": [
    {
     "data": {
      "text/plain": [
       "Ticker      brk-b     gld     tlo    vcsh\n",
       "Date                                     \n",
       "2010-01-04  66.22  109.80  43.235  64.806\n",
       "2010-01-05  66.54  109.70  43.634  64.900\n",
       "2010-01-06  66.20  111.51  43.332  65.089\n",
       "2010-01-07  66.46  110.82  43.194  65.046\n",
       "2010-01-08  66.44  111.37  43.267  65.098"
      ]
     },
     "execution_count": 73,
     "metadata": {},
     "output_type": "execute_result"
    }
   ],
   "source": [
    "### Get Historical Data for individual equity in the stock\n",
    "def get_historical_closes(tickers,start,end):\n",
    "    def data(ticker):\n",
    "        return web.DataReader(ticker, 'yahoo', start, end)\n",
    "    datas = map(data, tickers) ## this is a nice concept.. map applies function \"data\" to the items of sequence \"ticker\"\n",
    "    all_data=pd.concat(datas, keys=tickers, names=['Ticker','Date'])\n",
    "    all_data_reset = all_data[['Adj Close']].reset_index()\n",
    "    pivot = all_data_reset.pivot('Date', 'Ticker','Adj Close')\n",
    "    return pivot\n",
    "\n",
    "closes=get_historical_closes(P.Stocks,'2010-1-1','2012-12-31')\n",
    "closes.head()\n"
   ]
  },
  {
   "cell_type": "code",
   "execution_count": 74,
   "metadata": {
    "collapsed": false
   },
   "outputs": [
    {
     "data": {
      "text/plain": [
       "Ticker  brk-b    gld    tlo   vcsh\n",
       "2010    0.210  0.263  0.088  0.050\n",
       "2011   -0.048  0.096  0.304  0.031\n",
       "2012    0.176  0.066  0.026  0.056"
      ]
     },
     "execution_count": 74,
     "metadata": {},
     "output_type": "execute_result"
    }
   ],
   "source": [
    "### Compute Annual Return for the Portfolio\n",
    "def calc_daily_returns(closes):\n",
    "    #Log of Pt/Pt-1\n",
    "    return np.log(closes/closes.shift(1))\n",
    "def calc_annual_returns(daily_returns):\n",
    "    grouped = np.exp(daily_returns.groupby(lambda date: date.year).sum())-1\n",
    "    return grouped\n",
    "\n",
    "daily_returns=calc_daily_returns(closes)\n",
    "annual_returns=calc_annual_returns(daily_returns)\n",
    "annual_returns.head()"
   ]
  },
  {
   "cell_type": "code",
   "execution_count": 34,
   "metadata": {
    "collapsed": false
   },
   "outputs": [
    {
     "name": "stdout",
     "output_type": "stream",
     "text": [
      "0.00144389952423\n"
     ]
    }
   ],
   "source": [
    "### Compute Portfolio Variance\n",
    "def calc_portfolio_var(returns,weights=None):\n",
    "    if weights is None:\n",
    "        weights=np.ones(returns.columns.size)/returns.columns.size ### returns is of type Data-Frame\n",
    "    sigma=np.cov(returns.T)\n",
    "    var=(weights*sigma*weights.T).sum()\n",
    "    return var\n",
    "print calc_portfolio_var(annual_returns)\n"
   ]
  },
  {
   "cell_type": "code",
   "execution_count": 89,
   "metadata": {
    "collapsed": false
   },
   "outputs": [
    {
     "name": "stdout",
     "output_type": "stream",
     "text": [
      "2.49514257718\n"
     ]
    }
   ],
   "source": [
    "## Compute Sharp Ratio: S=(E(R)-Rf)/sigma_p\n",
    "def sharpe_ratio(returns, weights = None, risk_free_rate = 0.015):\n",
    "    n = returns.columns.size\n",
    "    if weights is None: weights = np.ones(n)/n\n",
    "    var = calc_portfolio_var(returns, weights)\n",
    "    means = returns.mean()\n",
    "    return (means.dot(weights) - risk_free_rate)/np.sqrt(var)\n",
    "\n",
    "print sharpe_ratio(annual_returns)"
   ]
  },
  {
   "cell_type": "code",
   "execution_count": 92,
   "metadata": {
    "collapsed": false
   },
   "outputs": [
    {
     "name": "stdout",
     "output_type": "stream",
     "text": [
      "2.49514257718\n",
      "[ 0.25  0.25  0.25  0.25] 1.0\n",
      "4\n"
     ]
    }
   ],
   "source": [
    "### Construct an optimal portfolio\n",
    "def negative_sharpe_ratio_n_minus_1_stock(weights,returns,risk_free_rate):\n",
    "    \"\"\"\n",
    "    Given n-1 weights, return a negative sharpe ratio\n",
    "    \"\"\"\n",
    "    weights2 = sp.append(weights, 1-np.sum(weights))\n",
    "    #print weights2\n",
    "    return -sharpe_ratio(returns, weights2, risk_free_rate)\n",
    "\n",
    "def neg_sharp(weights,returns,risk_free_rate=0.01):\n",
    "    return -sharp_ratio(returns,weights,risk_free_rate)\n",
    "\n",
    "def optimize_portfolio(returns, risk_free_rate):\n",
    "    w0 = np.ones(returns.columns.size-1,dtype=float) * 1.0 / returns.columns.size\n",
    "    #w0=np.array([.2,0,0])\n",
    "    opt= scopt.minimize(negative_sharpe_ratio_n_minus_1_stock,w0, args=(returns, risk_free_rate),bounds=[(0,1),(0,1),(0,1)])\n",
    "    w1=opt.x\n",
    "    final_w = sp.append(w1, 1 - np.sum(w1))\n",
    "    final_sharpe = sharpe_ratio(returns, final_w, risk_free_rate)\n",
    "    print final_sharpe\n",
    "    return (final_w, final_sharpe)\n",
    "\n",
    "w,fs=optimize_portfolio(annual_returns, 0.015)\n",
    "print w, w.sum()\n",
    "print annual_returns.columns.size"
   ]
  },
  {
   "cell_type": "code",
   "execution_count": 94,
   "metadata": {
    "collapsed": false
   },
   "outputs": [
    {
     "name": "stdout",
     "output_type": "stream",
     "text": [
      "[ 0.16167345  0.16171598  0.51499292  0.16161766]\n"
     ]
    }
   ],
   "source": [
    "def neg_sharp(weights,returns,risk_free_rate=0.01):\n",
    "    return -sharpe_ratio(returns,weights,risk_free_rate)\n",
    "\n",
    "def direct_portfolio_optimize(returns,risk_free_rate=0.01):\n",
    "    w0 = np.ones(returns.columns.size,dtype=float) * 1.0 / returns.columns.size\n",
    "    bounds = [(0,1) for i in np.arange(returns.columns.size)]\n",
    "    constraints = ({'type': 'eq','fun': lambda W: np.sum(W) - 1})\n",
    "    results = scopt.minimize(neg_sharp, w0, (returns,risk_free_rate),method='SLSQP',constraints=constraints,bounds=bounds)\n",
    "    return results.x\n",
    "\n",
    "print direct_portfolio_optimize(annual_returns)"
   ]
  },
  {
   "cell_type": "code",
   "execution_count": 111,
   "metadata": {
    "collapsed": false
   },
   "outputs": [
    {
     "name": "stdout",
     "output_type": "stream",
     "text": [
      "Sub-optimal portfolio returns: 0.109812119173\n",
      "Optimal Portfolio returns: 0.120347290857\n"
     ]
    }
   ],
   "source": [
    "w0=np.ones(annual_returns.columns.size,dtype=float) * 1.0 / annual_returns.columns.size\n",
    "R_suboptimal=w0*annual_returns\n",
    "print 'Sub-optimal portfolio returns:', R_suboptimal.mean(axis=0).sum()\n",
    "w_optim=direct_portfolio_optimize(annual_returns)\n",
    "R_optimal=w_optim*annual_returns\n",
    "print 'Optimal Portfolio returns:', R_optimal.mean(axis=0).sum()"
   ]
  },
  {
   "cell_type": "code",
   "execution_count": 79,
   "metadata": {
    "collapsed": false
   },
   "outputs": [],
   "source": [
    "## Efficient Frontier Calculation\n",
    "def objfun(W, R, target_ret):\n",
    "    stock_mean = np.mean(R,axis=0)\n",
    "    port_mean = np.dot(W,stock_mean)\n",
    "    cov=np.cov(R.T)\n",
    "    port_var = np.dot(np.dot(W,cov),W.T)\n",
    "    penalty = 2000*abs(port_mean-target_ret)\n",
    "    return np.sqrt(port_var) + penalty\n",
    "\n",
    "\n",
    "def calc_efficient_frontier(returns):\n",
    "    result_means = []\n",
    "    result_stds = []\n",
    "    result_weights = []\n",
    "    means = returns.mean()\n",
    "    min_mean, max_mean = means.min(), means.max()\n",
    "    nstocks = returns.columns.size\n",
    "    for r in np.linspace(min_mean, max_mean, 100):\n",
    "        weights = np.ones(nstocks)/nstocks\n",
    "        bounds = [(0,1) for i in np.arange(nstocks)]\n",
    "        constraints = ({'type': 'eq','fun': lambda W: np.sum(W) - 1})\n",
    "        results = scopt.minimize(objfun, weights, (returns, r),\n",
    "        method='SLSQP',\n",
    "        constraints = constraints,\n",
    "        bounds = bounds)\n",
    "        if not results.success: # handle error\n",
    "            raise Exception(result.message)\n",
    "        result_means.append(np.round(r,4)) # 4 decimal places\n",
    "        std_=np.round(np.std(np.sum(returns*results.x,axis=1)),6)\n",
    "        result_stds.append(std_)\n",
    "        result_weights.append(np.round(results.x, 5))\n",
    "    return {'Means': result_means,'Stds': result_stds,'Weights': result_weights}\n",
    "\n",
    "frontier_data = calc_efficient_frontier(annual_returns)"
   ]
  },
  {
   "cell_type": "code",
   "execution_count": 80,
   "metadata": {
    "collapsed": false
   },
   "outputs": [
    {
     "data": {
      "image/png": "[encoded data removed]",
      "text/plain": [
       "<matplotlib.figure.Figure at 0x7f47fd503a50>"
      ]
     },
     "metadata": {},
     "output_type": "display_data"
    }
   ],
   "source": [
    "def plot_efficient_frontier(ef_data):\n",
    "    py.figure(figsize=(12,8))\n",
    "    py.title('Efficient Frontier')\n",
    "    py.xlabel('Standard Deviation of the porfolio (Risk))')\n",
    "    py.ylabel('Return of the portfolio')\n",
    "    py.plot(ef_data['Stds'], ef_data['Means'], '--');\n",
    "\n",
    "plot_efficient_frontier(frontier_data)"
   ]
  },
  {
   "cell_type": "code",
   "execution_count": null,
   "metadata": {
    "collapsed": true
   },
   "outputs": [],
   "source": []
  }
 ],
 "metadata": {
  "kernelspec": {
   "display_name": "Python 2",
   "language": "python",
   "name": "python2"
  },
  "language_info": {
   "codemirror_mode": {
    "name": "ipython",
    "version": 2
   },
   "file_extension": ".py",
   "mimetype": "text/x-python",
   "name": "python",
   "nbconvert_exporter": "python",
   "pygments_lexer": "ipython2",
   "version": "2.7.12"
  }
 },
 "nbformat": 4,
 "nbformat_minor": 1
}

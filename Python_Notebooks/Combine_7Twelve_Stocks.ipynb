{
 "cells": [
  {
   "cell_type": "markdown",
   "metadata": {},
   "source": [
    "####  Combine 7Twelve Portfolio\n",
    "* This notebook is used to analyze combined roth acccount in my merrill edge account\n",
    "(http://appliedvalueinvestor.com/2017/09/10/retirement-portfolio-7twelve/)"
   ]
  },
  {
   "cell_type": "code",
   "execution_count": 1,
   "metadata": {
    "collapsed": false
   },
   "outputs": [],
   "source": [
    "### Setup the environment\n",
    "import os,sys\n",
    "import pandas as pd\n",
    "import pandas_datareader as web\n",
    "import numpy as np\n",
    "from datetime import datetime as dt\n",
    "import matplotlib\n",
    "import seaborn as sns\n",
    "#%matplotlib inline\n",
    "import pylab as py\n",
    "py.ion()\n",
    "\n",
    "import scipy as sp\n",
    "import scipy.optimize as scopt\n",
    "import scipy.stats as spstats\n",
    "import warnings\n",
    "warnings.filterwarnings('ignore')\n",
    "\n",
    "HOME=os.environ['HOME']\n",
    "file_path = os.path.dirname(os.path.realpath('__file__'))\n",
    "sys_path='%s/..'%file_path\n",
    "sys.path.append(sys_path)\n",
    "from investmenttools import PortfolioBuilder as PB\n",
    "reload(PB)\n",
    "\n",
    "pd.set_option('display.notebook_repr_html', False)\n",
    "pd.set_option('display.max_columns', 6)\n",
    "pd.set_option('display.max_rows', 10)\n",
    "pd.set_option('display.width', 78)\n",
    "pd.set_option('precision', 3)"
   ]
  },
  {
   "cell_type": "code",
   "execution_count": 2,
   "metadata": {
    "collapsed": false
   },
   "outputs": [
    {
     "name": "stdout",
     "output_type": "stream",
     "text": [
      "['BIV', 'DBC', 'PCY', 'SHYG', 'TIP', 'VAW', 'VB', 'VNQ', 'VEU', 'VO', 'VTV', 'VWO', 'SHY', 'AGG', 'SCHP', 'EMB', 'FREL', 'IJH', 'IVV', 'IEFA', 'VBR', 'FMAT', 'IEMG', 'FENY']\n"
     ]
    }
   ],
   "source": [
    "## Portfolio ticker\n",
    "nme=['BIV','DBC','PCY','SHYG','TIP','VAW','VB','VNQ','VEU','VO','VTV','VWO','SHY',\\\n",
    "     'AGG','SCHP','EMB','FREL','IJH','IVV','IEFA','VBR','FMAT','IEMG','FENY']\n",
    "\n",
    "cc=nme#%list(set.union(set(nme),set(nfe),set(nTD),set(nVa)))\n",
    "print cc\n",
    "wme=24*[0.0416]\n"
   ]
  },
  {
   "cell_type": "code",
   "execution_count": 3,
   "metadata": {
    "collapsed": true
   },
   "outputs": [],
   "source": [
    "## Define python module to download ticker data\n",
    "from selenium import webdriver\n",
    "from time import mktime\n",
    "from xvfbwrapper import Xvfb\n",
    "\n",
    "def WaitForDownload(datafile):\n",
    "    bul=0\n",
    "    while not bul:\n",
    "        if os.path.isfile(datafile):\n",
    "            bul=1\n",
    "        else:\n",
    "            bul=0\n",
    "\n",
    "def download_ticker(ticker,sd,ed):\n",
    "    vdisplay=Xvfb()\n",
    "    sd_unix=mktime(sd.timetuple())\n",
    "    ed_unix=mktime(ed.timetuple())\n",
    "    URL='https://finance.yahoo.com/quote/%s/history?period1=%d&period2=%d&interval=1d&filter=history&frequency=1d'%(ticker.upper(),sd_unix,ed_unix)\n",
    "    print URL\n",
    "    #vdisplay.start() ## uncomment to prevent browser window from opening \n",
    "    driver=webdriver.Chrome()\n",
    "    driver.get(URL)\n",
    "    driver.implicitly_wait(100)\n",
    "    elem=driver.find_element_by_link_text('Download Data')\n",
    "    elem.click()\n",
    "    datafile='%s/Downloads/%s.csv'%(HOME,ticker.upper())\n",
    "    WaitForDownload(datafile)\n",
    "    #assert os.path.isfile(datafile)\n",
    "    mv_cmd='mv %s/Downloads/%s.csv %s/../Data'%(HOME,ticker.upper(),file_path)\n",
    "    \n",
    "    os.system(mv_cmd)\n",
    "    #vdisplay.stop() ## uncomment to prevent browser window from opening \n",
    "    driver.close()    \n",
    "    \n",
    "## Define python module to read ticker data from csv file downloaed from Yahoo-finance\n",
    "def get_data_from_csv(filename,ticker):\n",
    "\tdata=pd.read_csv(filename)\n",
    "\tdata.set_index('Date',inplace=True)\n",
    "\tdata.rename(columns={'Close':ticker},inplace=True)\n",
    "\tdata=data[ticker]\n",
    "\treturn data.astype('float32')"
   ]
  },
  {
   "cell_type": "code",
   "execution_count": 7,
   "metadata": {
    "collapsed": false
   },
   "outputs": [
    {
     "name": "stdout",
     "output_type": "stream",
     "text": [
      "BIV\n",
      "https://finance.yahoo.com/quote/BIV/history?period1=1514793600&period2=1530342000&interval=1d&filter=history&frequency=1d\n",
      "DBC\n",
      "https://finance.yahoo.com/quote/DBC/history?period1=1514793600&period2=1530342000&interval=1d&filter=history&frequency=1d\n",
      "PCY\n",
      "https://finance.yahoo.com/quote/PCY/history?period1=1514793600&period2=1530342000&interval=1d&filter=history&frequency=1d\n",
      "SHYG\n",
      "https://finance.yahoo.com/quote/SHYG/history?period1=1514793600&period2=1530342000&interval=1d&filter=history&frequency=1d\n",
      "TIP\n",
      "https://finance.yahoo.com/quote/TIP/history?period1=1514793600&period2=1530342000&interval=1d&filter=history&frequency=1d\n",
      "VAW\n",
      "https://finance.yahoo.com/quote/VAW/history?period1=1514793600&period2=1530342000&interval=1d&filter=history&frequency=1d\n",
      "VB\n",
      "https://finance.yahoo.com/quote/VB/history?period1=1514793600&period2=1530342000&interval=1d&filter=history&frequency=1d\n",
      "VNQ\n",
      "https://finance.yahoo.com/quote/VNQ/history?period1=1514793600&period2=1530342000&interval=1d&filter=history&frequency=1d\n",
      "VEU\n",
      "https://finance.yahoo.com/quote/VEU/history?period1=1514793600&period2=1530342000&interval=1d&filter=history&frequency=1d\n",
      "VO\n",
      "https://finance.yahoo.com/quote/VO/history?period1=1514793600&period2=1530342000&interval=1d&filter=history&frequency=1d\n",
      "VTV\n",
      "https://finance.yahoo.com/quote/VTV/history?period1=1514793600&period2=1530342000&interval=1d&filter=history&frequency=1d\n",
      "VWO\n",
      "https://finance.yahoo.com/quote/VWO/history?period1=1514793600&period2=1530342000&interval=1d&filter=history&frequency=1d\n",
      "SHY\n",
      "https://finance.yahoo.com/quote/SHY/history?period1=1514793600&period2=1530342000&interval=1d&filter=history&frequency=1d\n",
      "AGG\n",
      "https://finance.yahoo.com/quote/AGG/history?period1=1514793600&period2=1530342000&interval=1d&filter=history&frequency=1d\n",
      "SCHP\n",
      "https://finance.yahoo.com/quote/SCHP/history?period1=1514793600&period2=1530342000&interval=1d&filter=history&frequency=1d\n",
      "EMB\n",
      "https://finance.yahoo.com/quote/EMB/history?period1=1514793600&period2=1530342000&interval=1d&filter=history&frequency=1d\n",
      "FREL\n",
      "https://finance.yahoo.com/quote/FREL/history?period1=1514793600&period2=1530342000&interval=1d&filter=history&frequency=1d\n",
      "IJH\n",
      "https://finance.yahoo.com/quote/IJH/history?period1=1514793600&period2=1530342000&interval=1d&filter=history&frequency=1d\n",
      "IVV\n",
      "https://finance.yahoo.com/quote/IVV/history?period1=1514793600&period2=1530342000&interval=1d&filter=history&frequency=1d\n",
      "IEFA\n",
      "https://finance.yahoo.com/quote/IEFA/history?period1=1514793600&period2=1530342000&interval=1d&filter=history&frequency=1d\n",
      "VBR\n",
      "https://finance.yahoo.com/quote/VBR/history?period1=1514793600&period2=1530342000&interval=1d&filter=history&frequency=1d\n",
      "FMAT\n",
      "https://finance.yahoo.com/quote/FMAT/history?period1=1514793600&period2=1530342000&interval=1d&filter=history&frequency=1d\n",
      "IEMG\n",
      "https://finance.yahoo.com/quote/IEMG/history?period1=1514793600&period2=1530342000&interval=1d&filter=history&frequency=1d\n",
      "FENY\n",
      "https://finance.yahoo.com/quote/FENY/history?period1=1514793600&period2=1530342000&interval=1d&filter=history&frequency=1d\n"
     ]
    }
   ],
   "source": [
    "# Download data\n",
    "## Not running this again, as I already downloaded the data\n",
    "sd=(2018,1,1)\n",
    "ed=(2018,1,1)\n",
    "\n",
    "for s in nme:\n",
    "    print s\n",
    "    download_ticker(s.upper(),dt(2018,1,1),dt(2018,6,30))\n",
    "\n"
   ]
  },
  {
   "cell_type": "code",
   "execution_count": 16,
   "metadata": {
    "collapsed": false,
    "scrolled": true
   },
   "outputs": [
    {
     "name": "stdout",
     "output_type": "stream",
     "text": [
      "              PCY   IEMG     EMB  ...      VWO     IJH   FENY\n",
      "Date                              ...                        \n",
      "2018-01-02  29.63  58.00  116.40  ...    46.70  191.57  20.39\n",
      "2018-01-03  29.61  58.51  116.35  ...    47.15  191.92  20.69\n",
      "2018-01-04  29.64  58.75  116.65  ...    47.44  192.47  20.82\n",
      "2018-01-05  29.67  59.25  116.72  ...    47.86  193.22  20.79\n",
      "2018-01-08  29.71  59.29  116.51  ...    47.87  194.18  20.92\n",
      "\n",
      "[5 rows x 24 columns]\n",
      "[0.0416, 0.0416, 0.0416, 0.0416, 0.0416, 0.0416, 0.0416, 0.0416, 0.0416, 0.0416, 0.0416, 0.0416, 0.0416, 0.0416, 0.0416, 0.0416, 0.0416, 0.0416, 0.0416, 0.0416, 0.0416, 0.0416, 0.0416, 0.0416]\n"
     ]
    }
   ],
   "source": [
    "#Collate portfolio data\n",
    "data_me={}\n",
    "\n",
    "\n",
    "for s in nme:\n",
    "    data_me[s]=get_data_from_csv('%s/../Data/%s.csv'%(file_path,s.upper()),s)\n",
    "portfolio_me=pd.DataFrame(data_me.values()).T  \n",
    "portfolio_me.dropna(inplace=True)\n",
    "portfolio_me.index=pd.to_datetime(portfolio_me.index)\n",
    "\n",
    "\n",
    "print portfolio_me.head(5)\n",
    "print wme"
   ]
  },
  {
   "cell_type": "code",
   "execution_count": 15,
   "metadata": {
    "collapsed": false
   },
   "outputs": [
    {
     "ename": "TypeError",
     "evalue": "cannot do index indexing on <class 'pandas.core.indexes.datetimes.DatetimeIndex'> with these indexers [0] of <type 'int'>",
     "output_type": "error",
     "traceback": [
      "\u001b[0;31m---------------------------------------------------------------------------\u001b[0m",
      "\u001b[0;31mTypeError\u001b[0m                                 Traceback (most recent call last)",
      "\u001b[0;32m<ipython-input-15-48fb60a33ead>\u001b[0m in \u001b[0;36m<module>\u001b[0;34m()\u001b[0m\n\u001b[0;32m----> 1\u001b[0;31m \u001b[0mportfolio_me_norm\u001b[0m\u001b[0;34m=\u001b[0m\u001b[0mportfolio_me\u001b[0m\u001b[0;34m.\u001b[0m\u001b[0mloc\u001b[0m\u001b[0;34m[\u001b[0m\u001b[0;34m:\u001b[0m\u001b[0;34m]\u001b[0m\u001b[0;34m/\u001b[0m\u001b[0mportfolio_me\u001b[0m\u001b[0;34m.\u001b[0m\u001b[0mloc\u001b[0m\u001b[0;34m[\u001b[0m\u001b[0;36m0\u001b[0m\u001b[0;34m]\u001b[0m\u001b[0;34m\u001b[0m\u001b[0m\n\u001b[0m",
      "\u001b[0;32m/home/sachin/.virtualenvs/theano/local/lib/python2.7/site-packages/pandas/core/indexing.pyc\u001b[0m in \u001b[0;36m__getitem__\u001b[0;34m(self, key)\u001b[0m\n\u001b[1;32m   1476\u001b[0m \u001b[0;34m\u001b[0m\u001b[0m\n\u001b[1;32m   1477\u001b[0m             \u001b[0mmaybe_callable\u001b[0m \u001b[0;34m=\u001b[0m \u001b[0mcom\u001b[0m\u001b[0;34m.\u001b[0m\u001b[0m_apply_if_callable\u001b[0m\u001b[0;34m(\u001b[0m\u001b[0mkey\u001b[0m\u001b[0;34m,\u001b[0m \u001b[0mself\u001b[0m\u001b[0;34m.\u001b[0m\u001b[0mobj\u001b[0m\u001b[0;34m)\u001b[0m\u001b[0;34m\u001b[0m\u001b[0m\n\u001b[0;32m-> 1478\u001b[0;31m             \u001b[0;32mreturn\u001b[0m \u001b[0mself\u001b[0m\u001b[0;34m.\u001b[0m\u001b[0m_getitem_axis\u001b[0m\u001b[0;34m(\u001b[0m\u001b[0mmaybe_callable\u001b[0m\u001b[0;34m,\u001b[0m \u001b[0maxis\u001b[0m\u001b[0;34m=\u001b[0m\u001b[0maxis\u001b[0m\u001b[0;34m)\u001b[0m\u001b[0;34m\u001b[0m\u001b[0m\n\u001b[0m\u001b[1;32m   1479\u001b[0m \u001b[0;34m\u001b[0m\u001b[0m\n\u001b[1;32m   1480\u001b[0m     \u001b[0;32mdef\u001b[0m \u001b[0m_is_scalar_access\u001b[0m\u001b[0;34m(\u001b[0m\u001b[0mself\u001b[0m\u001b[0;34m,\u001b[0m \u001b[0mkey\u001b[0m\u001b[0;34m)\u001b[0m\u001b[0;34m:\u001b[0m\u001b[0;34m\u001b[0m\u001b[0m\n",
      "\u001b[0;32m/home/sachin/.virtualenvs/theano/local/lib/python2.7/site-packages/pandas/core/indexing.pyc\u001b[0m in \u001b[0;36m_getitem_axis\u001b[0;34m(self, key, axis)\u001b[0m\n\u001b[1;32m   1909\u001b[0m \u001b[0;34m\u001b[0m\u001b[0m\n\u001b[1;32m   1910\u001b[0m         \u001b[0;31m# fall thru to straight lookup\u001b[0m\u001b[0;34m\u001b[0m\u001b[0;34m\u001b[0m\u001b[0m\n\u001b[0;32m-> 1911\u001b[0;31m         \u001b[0mself\u001b[0m\u001b[0;34m.\u001b[0m\u001b[0m_validate_key\u001b[0m\u001b[0;34m(\u001b[0m\u001b[0mkey\u001b[0m\u001b[0;34m,\u001b[0m \u001b[0maxis\u001b[0m\u001b[0;34m)\u001b[0m\u001b[0;34m\u001b[0m\u001b[0m\n\u001b[0m\u001b[1;32m   1912\u001b[0m         \u001b[0;32mreturn\u001b[0m \u001b[0mself\u001b[0m\u001b[0;34m.\u001b[0m\u001b[0m_get_label\u001b[0m\u001b[0;34m(\u001b[0m\u001b[0mkey\u001b[0m\u001b[0;34m,\u001b[0m \u001b[0maxis\u001b[0m\u001b[0;34m=\u001b[0m\u001b[0maxis\u001b[0m\u001b[0;34m)\u001b[0m\u001b[0;34m\u001b[0m\u001b[0m\n\u001b[1;32m   1913\u001b[0m \u001b[0;34m\u001b[0m\u001b[0m\n",
      "\u001b[0;32m/home/sachin/.virtualenvs/theano/local/lib/python2.7/site-packages/pandas/core/indexing.pyc\u001b[0m in \u001b[0;36m_validate_key\u001b[0;34m(self, key, axis)\u001b[0m\n\u001b[1;32m   1786\u001b[0m \u001b[0;34m\u001b[0m\u001b[0m\n\u001b[1;32m   1787\u001b[0m             \u001b[0;32mtry\u001b[0m\u001b[0;34m:\u001b[0m\u001b[0;34m\u001b[0m\u001b[0m\n\u001b[0;32m-> 1788\u001b[0;31m                 \u001b[0mkey\u001b[0m \u001b[0;34m=\u001b[0m \u001b[0mself\u001b[0m\u001b[0;34m.\u001b[0m\u001b[0m_convert_scalar_indexer\u001b[0m\u001b[0;34m(\u001b[0m\u001b[0mkey\u001b[0m\u001b[0;34m,\u001b[0m \u001b[0maxis\u001b[0m\u001b[0;34m)\u001b[0m\u001b[0;34m\u001b[0m\u001b[0m\n\u001b[0m\u001b[1;32m   1789\u001b[0m                 \u001b[0;32mif\u001b[0m \u001b[0;32mnot\u001b[0m \u001b[0max\u001b[0m\u001b[0;34m.\u001b[0m\u001b[0mcontains\u001b[0m\u001b[0;34m(\u001b[0m\u001b[0mkey\u001b[0m\u001b[0;34m)\u001b[0m\u001b[0;34m:\u001b[0m\u001b[0;34m\u001b[0m\u001b[0m\n\u001b[1;32m   1790\u001b[0m                     \u001b[0merror\u001b[0m\u001b[0;34m(\u001b[0m\u001b[0;34m)\u001b[0m\u001b[0;34m\u001b[0m\u001b[0m\n",
      "\u001b[0;32m/home/sachin/.virtualenvs/theano/local/lib/python2.7/site-packages/pandas/core/indexing.pyc\u001b[0m in \u001b[0;36m_convert_scalar_indexer\u001b[0;34m(self, key, axis)\u001b[0m\n\u001b[1;32m    259\u001b[0m         \u001b[0max\u001b[0m \u001b[0;34m=\u001b[0m \u001b[0mself\u001b[0m\u001b[0;34m.\u001b[0m\u001b[0mobj\u001b[0m\u001b[0;34m.\u001b[0m\u001b[0m_get_axis\u001b[0m\u001b[0;34m(\u001b[0m\u001b[0mmin\u001b[0m\u001b[0;34m(\u001b[0m\u001b[0maxis\u001b[0m\u001b[0;34m,\u001b[0m \u001b[0mself\u001b[0m\u001b[0;34m.\u001b[0m\u001b[0mndim\u001b[0m \u001b[0;34m-\u001b[0m \u001b[0;36m1\u001b[0m\u001b[0;34m)\u001b[0m\u001b[0;34m)\u001b[0m\u001b[0;34m\u001b[0m\u001b[0m\n\u001b[1;32m    260\u001b[0m         \u001b[0;31m# a scalar\u001b[0m\u001b[0;34m\u001b[0m\u001b[0;34m\u001b[0m\u001b[0m\n\u001b[0;32m--> 261\u001b[0;31m         \u001b[0;32mreturn\u001b[0m \u001b[0max\u001b[0m\u001b[0;34m.\u001b[0m\u001b[0m_convert_scalar_indexer\u001b[0m\u001b[0;34m(\u001b[0m\u001b[0mkey\u001b[0m\u001b[0;34m,\u001b[0m \u001b[0mkind\u001b[0m\u001b[0;34m=\u001b[0m\u001b[0mself\u001b[0m\u001b[0;34m.\u001b[0m\u001b[0mname\u001b[0m\u001b[0;34m)\u001b[0m\u001b[0;34m\u001b[0m\u001b[0m\n\u001b[0m\u001b[1;32m    262\u001b[0m \u001b[0;34m\u001b[0m\u001b[0m\n\u001b[1;32m    263\u001b[0m     \u001b[0;32mdef\u001b[0m \u001b[0m_convert_slice_indexer\u001b[0m\u001b[0;34m(\u001b[0m\u001b[0mself\u001b[0m\u001b[0;34m,\u001b[0m \u001b[0mkey\u001b[0m\u001b[0;34m,\u001b[0m \u001b[0maxis\u001b[0m\u001b[0;34m)\u001b[0m\u001b[0;34m:\u001b[0m\u001b[0;34m\u001b[0m\u001b[0m\n",
      "\u001b[0;32m/home/sachin/.virtualenvs/theano/local/lib/python2.7/site-packages/pandas/core/indexes/datetimelike.pyc\u001b[0m in \u001b[0;36m_convert_scalar_indexer\u001b[0;34m(self, key, kind)\u001b[0m\n\u001b[1;32m    744\u001b[0m             \u001b[0mis_flt\u001b[0m \u001b[0;34m=\u001b[0m \u001b[0mis_float\u001b[0m\u001b[0;34m(\u001b[0m\u001b[0mkey\u001b[0m\u001b[0;34m)\u001b[0m\u001b[0;34m\u001b[0m\u001b[0m\n\u001b[1;32m    745\u001b[0m             \u001b[0;32mif\u001b[0m \u001b[0mkind\u001b[0m \u001b[0;32min\u001b[0m \u001b[0;34m[\u001b[0m\u001b[0;34m'loc'\u001b[0m\u001b[0;34m]\u001b[0m \u001b[0;32mand\u001b[0m \u001b[0;34m(\u001b[0m\u001b[0mis_int\u001b[0m \u001b[0;32mor\u001b[0m \u001b[0mis_flt\u001b[0m\u001b[0;34m)\u001b[0m\u001b[0;34m:\u001b[0m\u001b[0;34m\u001b[0m\u001b[0m\n\u001b[0;32m--> 746\u001b[0;31m                 \u001b[0mself\u001b[0m\u001b[0;34m.\u001b[0m\u001b[0m_invalid_indexer\u001b[0m\u001b[0;34m(\u001b[0m\u001b[0;34m'index'\u001b[0m\u001b[0;34m,\u001b[0m \u001b[0mkey\u001b[0m\u001b[0;34m)\u001b[0m\u001b[0;34m\u001b[0m\u001b[0m\n\u001b[0m\u001b[1;32m    747\u001b[0m             \u001b[0;32melif\u001b[0m \u001b[0mkind\u001b[0m \u001b[0;32min\u001b[0m \u001b[0;34m[\u001b[0m\u001b[0;34m'ix'\u001b[0m\u001b[0;34m,\u001b[0m \u001b[0;34m'getitem'\u001b[0m\u001b[0;34m]\u001b[0m \u001b[0;32mand\u001b[0m \u001b[0mis_flt\u001b[0m\u001b[0;34m:\u001b[0m\u001b[0;34m\u001b[0m\u001b[0m\n\u001b[1;32m    748\u001b[0m                 \u001b[0mself\u001b[0m\u001b[0;34m.\u001b[0m\u001b[0m_invalid_indexer\u001b[0m\u001b[0;34m(\u001b[0m\u001b[0;34m'index'\u001b[0m\u001b[0;34m,\u001b[0m \u001b[0mkey\u001b[0m\u001b[0;34m)\u001b[0m\u001b[0;34m\u001b[0m\u001b[0m\n",
      "\u001b[0;32m/home/sachin/.virtualenvs/theano/local/lib/python2.7/site-packages/pandas/core/indexes/base.pyc\u001b[0m in \u001b[0;36m_invalid_indexer\u001b[0;34m(self, form, key)\u001b[0m\n\u001b[1;32m   1847\u001b[0m                         \"indexers [{key}] of {kind}\".format(\n\u001b[1;32m   1848\u001b[0m                             \u001b[0mform\u001b[0m\u001b[0;34m=\u001b[0m\u001b[0mform\u001b[0m\u001b[0;34m,\u001b[0m \u001b[0mklass\u001b[0m\u001b[0;34m=\u001b[0m\u001b[0mtype\u001b[0m\u001b[0;34m(\u001b[0m\u001b[0mself\u001b[0m\u001b[0;34m)\u001b[0m\u001b[0;34m,\u001b[0m \u001b[0mkey\u001b[0m\u001b[0;34m=\u001b[0m\u001b[0mkey\u001b[0m\u001b[0;34m,\u001b[0m\u001b[0;34m\u001b[0m\u001b[0m\n\u001b[0;32m-> 1849\u001b[0;31m                             kind=type(key)))\n\u001b[0m\u001b[1;32m   1850\u001b[0m \u001b[0;34m\u001b[0m\u001b[0m\n\u001b[1;32m   1851\u001b[0m     \u001b[0;32mdef\u001b[0m \u001b[0mget_duplicates\u001b[0m\u001b[0;34m(\u001b[0m\u001b[0mself\u001b[0m\u001b[0;34m)\u001b[0m\u001b[0;34m:\u001b[0m\u001b[0;34m\u001b[0m\u001b[0m\n",
      "\u001b[0;31mTypeError\u001b[0m: cannot do index indexing on <class 'pandas.core.indexes.datetimes.DatetimeIndex'> with these indexers [0] of <type 'int'>"
     ]
    }
   ],
   "source": []
  },
  {
   "cell_type": "code",
   "execution_count": 17,
   "metadata": {
    "collapsed": false
   },
   "outputs": [
    {
     "name": "stdout",
     "output_type": "stream",
     "text": [
      "Var fo me: 2.202017597324847\n"
     ]
    }
   ],
   "source": [
    "## Compute Portfolio Variance\n",
    "\n",
    "sme=PB.calc_portfolio_var(portfolio_me,wme)\n",
    "print 'Var fo me:',sme\n"
   ]
  },
  {
   "cell_type": "code",
   "execution_count": 18,
   "metadata": {
    "collapsed": false
   },
   "outputs": [],
   "source": [
    "## Compute Portfolio returns with annual rebalancing\n",
    "rme=PB.Backtest_Annual_Rebalance(nme,wme,dt(2018,1,1),dt(2018,6,30),initial=10000,stk_data=portfolio_me)\n"
   ]
  },
  {
   "cell_type": "code",
   "execution_count": 19,
   "metadata": {
    "collapsed": false
   },
   "outputs": [
    {
     "name": "stdout",
     "output_type": "stream",
     "text": [
      "         me\n",
      "2018 -1.994\n",
      "\n",
      " Average Annual Returns:\n",
      "me   -1.994\n",
      "dtype: float64\n"
     ]
    }
   ],
   "source": [
    "## Compute Annual Returns\n",
    "\n",
    "Pme_dp=PB.calc_daily_returns(rme[['Total','Cash']].sum(axis=1))\n",
    "Pme_ap=100*PB.calc_annual_returns(Pme_dp)\n",
    "Pme_ap.name='me'\n",
    "Annual_Returns=pd.concat([Pme_ap],axis=1)\n",
    "print Annual_Returns\n",
    "\n",
    "print '\\n Average Annual Returns:'\n",
    "avg_annual_returns=Annual_Returns.mean(axis=0)\n",
    "print avg_annual_returns"
   ]
  },
  {
   "cell_type": "code",
   "execution_count": 12,
   "metadata": {
    "collapsed": false
   },
   "outputs": [
    {
     "data": {
      "text/plain": [
       "<matplotlib.text.Text at 0x7fc82887e0d0>"
      ]
     },
     "execution_count": 12,
     "metadata": {},
     "output_type": "execute_result"
    },
    {
     "data": {
      "image/png": "[encoded data removed]",
      "text/plain": [
       "<matplotlib.figure.Figure at 0x7fc82b0709d0>"
      ]
     },
     "metadata": {},
     "output_type": "display_data"
    }
   ],
   "source": [
    "## Plot Cumulative And Annual Returns\n",
    "\n",
    "py.figure(figsize=(10,10))\n",
    "ax1=py.subplot(211)\n",
    "py.hold('on')\n",
    "\n",
    "rme[['Total','Cash']].sum(axis=1).plot(ax=ax1)\n",
    "\n",
    "py.xticks(fontsize=15,fontweight='bold')\n",
    "py.yticks(fontsize=15,fontweight='bold')\n",
    "py.ylabel('Cumulative Returns',fontweight='bold',fontsize=14)\n",
    "py.xlabel('')\n",
    "py.legend(['me'],loc='best')\n",
    "\n",
    "ax2=py.subplot(212)\n",
    "Annual_Returns.plot(kind='bar',ax=ax2)\n",
    "py.xticks(fontsize=15,fontweight='bold');\n",
    "py.yticks(fontsize=15,fontweight='bold');\n",
    "py.ylabel('Annualized % Returns',fontweight='bold',fontsize=14)\n"
   ]
  },
  {
   "cell_type": "code",
   "execution_count": null,
   "metadata": {
    "collapsed": false,
    "scrolled": true
   },
   "outputs": [],
   "source": [
    "## Print Risk Return Profile\n",
    "\n",
    "py.figure(figsize=(10,5));\n",
    "py.plot(All_Var,avg_annual_returns.values,'.',markersize=15)\n",
    "py.xticks(fontweight='bold',fontsize=15)\n",
    "py.yticks(fontweight='bold',fontsize=15)\n",
    "py.xlabel('Portfolio-Variance',fontweight='bold',fontsize=15)\n",
    "py.ylabel('Average Annual Returns',fontweight='bold',fontsize=15)\n",
    "\n",
    "## Perfect straiht line!!!!! quite unusall "
   ]
  },
  {
   "cell_type": "code",
   "execution_count": null,
   "metadata": {
    "collapsed": true
   },
   "outputs": [],
   "source": []
  }
 ],
 "metadata": {
  "kernelspec": {
   "display_name": "Python 2",
   "language": "python",
   "name": "python2"
  },
  "language_info": {
   "codemirror_mode": {
    "name": "ipython",
    "version": 2
   },
   "file_extension": ".py",
   "mimetype": "text/x-python",
   "name": "python",
   "nbconvert_exporter": "python",
   "pygments_lexer": "ipython2",
   "version": "2.7.12"
  }
 },
 "nbformat": 4,
 "nbformat_minor": 1
}

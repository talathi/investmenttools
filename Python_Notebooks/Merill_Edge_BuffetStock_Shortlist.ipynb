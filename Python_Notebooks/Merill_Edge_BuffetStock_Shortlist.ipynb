{
 "cells": [
  {
   "cell_type": "markdown",
   "metadata": {},
   "source": [
    "####  Notebook to download and analyze Finance Data for short list of Warren Buffet Stocks from Merill Edge \n"
   ]
  },
  {
   "cell_type": "code",
   "execution_count": 1,
   "metadata": {
    "collapsed": false
   },
   "outputs": [],
   "source": [
    "import numpy as np\n",
    "import matplotlib\n",
    "matplotlib.use('TKAgg')\n",
    "%matplotlib inline\n",
    "import pylab as py\n",
    "py.ion()\n",
    "import pandas as pd\n",
    "import sys,os\n",
    "import datetime\n",
    "\n",
    "HOME=os.environ['HOME']\n",
    "file_path = os.path.dirname(os.path.realpath('__file__'))\n",
    "\n",
    "sys_path='%s/..'%file_path\n",
    "sys.path.append(sys_path)\n",
    "from investmenttools import PortfolioBuilder as PB\n",
    "reload(PB)\n",
    "from investmenttools import ReadMagicFormulaList as RF\n",
    "reload(RF)\n",
    "from investmenttools import Intrinsic_Value as IV\n",
    "reload(IV)\n",
    "\n",
    "M=RF.ReadMagicFormula('abc@abc.com','abc')\n"
   ]
  },
  {
   "cell_type": "code",
   "execution_count": 25,
   "metadata": {
    "collapsed": false
   },
   "outputs": [
    {
     "name": "stdout",
     "output_type": "stream",
     "text": [
      "    Symbol 1 Year Change 3 Year Change 5 Year Change\n",
      "0      AAP        -40.99        -36.94         43.09\n",
      "1     CRTO        -38.43        -36.77            --\n",
      "2      CPL        -26.78        -13.68        -44.33\n",
      "3       KR        -19.24        -12.02        114.83\n",
      "4      CPB           -19           9.6         37.38\n",
      "5     SABR        -16.26          2.17            --\n",
      "6    DISCA        -15.64        -31.42        -62.42\n",
      "7      OMC        -14.56          -4.4          46.6\n",
      "8     ORLY        -14.31         24.39        169.47\n",
      "9      IPG        -13.53          1.24         82.87\n",
      "10     CAH        -13.34        -24.71         48.68\n",
      "11      WU        -12.48          5.71          40.4\n",
      "12    PDCO        -11.22        -26.19          6.15\n",
      "13     HOG        -10.37        -20.62          6.47\n",
      "14    CELG         -9.79         -6.32        166.83\n",
      "15       T         -8.85         15.04         15.65\n",
      "16     IBM         -8.72         -5.54        -21.16\n",
      "17    VIAB         -8.31         -57.8        -39.29\n",
      "18    ANDX         -8.26        -14.49          5.67\n",
      "19    FFIV         -8.23         -0.45         35.82\n",
      "20     TEN         -8.15          3.99         71.35\n",
      "21     MMP         -7.96        -16.78         59.15\n",
      "22       K         -7.55          1.87         21.22\n",
      "23     PAG         -7.32         -2.51         62.93\n",
      "24     CVS         -6.83        -24.41         50.83\n",
      "25    HSIC          -6.8          3.29         75.46\n",
      "26     SXT         -6.15         18.81        105.36\n",
      "27     HBI         -6.03         -26.5        126.59\n",
      "28     CHL          -5.2        -16.98        -13.94\n",
      "29    CSRA         -5.15            --            --\n",
      "..     ...           ...           ...           ...\n",
      "235    PVH         50.07          9.37         23.33\n",
      "236    STZ         50.47        130.97        535.82\n",
      "237   BLKB         50.49        119.39        320.55\n",
      "238   AAPL         50.49         54.96        135.89\n",
      "239   BF'B         50.81         52.13        114.15\n",
      "240    SHW         52.88         57.88        172.61\n",
      "241    AMP         53.46         27.23        173.67\n",
      "242   ANTM         56.04         75.61        267.97\n",
      "243   YUMC         56.23            --            --\n",
      "244    PII         57.17        -16.02         48.45\n",
      "245    PGR         57.47        109.76        164.58\n",
      "246   AMAT         57.71        104.96         352.7\n",
      "247   ANSS          58.6         76.36        113.51\n",
      "248   ABBV         59.28         46.65        177.82\n",
      "249    VMW         60.54          52.5         33.69\n",
      "250     EL         62.16         67.87        113.56\n",
      "251   MSCI          63.5        166.58         312.9\n",
      "252   NTES         68.42        256.16        770.13\n",
      "253   ILMN         70.17         13.88        282.55\n",
      "254   ENTG         70.44        135.23        235.69\n",
      "255   ISRG         70.88        104.08        119.32\n",
      "256    WGO         72.89         165.9        243.58\n",
      "257   LRCX         73.36        128.93        415.15\n",
      "258   ATVI         77.03        217.78        505.73\n",
      "259    RHT          78.9         78.43        123.53\n",
      "260   NVDA         82.31         839.7       1481.13\n",
      "261   MTCH         83.71            --            --\n",
      "262   MELI        101.23         147.1        301.06\n",
      "263   BABA         103.1         62.08            --\n",
      "264   DLPH             0            --            --\n",
      "\n",
      "[265 rows x 4 columns]\n"
     ]
    }
   ],
   "source": [
    "## Get the list of WB stocks from downloaded file\n",
    "csvfile='%s/Work/DataSets/WB_Stocks/WB_Screener_20171225.csv'%HOME\n",
    "stklist=pd.read_csv(csvfile)\n",
    "stklist.head(5)\n",
    "stklist['1 Year Change'].replace('--',0.0,inplace=True)\n",
    "stklist.dropna(inplace=True)\n",
    "## Get short list of stocks that have fallen greater \n",
    "#than 10 % in last year\n",
    "shortList=stklist[stklist['1 Year Change'].astype(float)<200]\n",
    "print shortList[['Symbol','1 Year Change','3 Year Change','5 Year Change']]"
   ]
  },
  {
   "cell_type": "code",
   "execution_count": 24,
   "metadata": {
    "collapsed": false
   },
   "outputs": [
    {
     "name": "stdout",
     "output_type": "stream",
     "text": [
      "    Symbol 1 Year Change\n",
      "258   ATVI         77.03\n",
      "259    RHT          78.9\n",
      "260   NVDA         82.31\n",
      "261   MTCH         83.71\n",
      "262   MELI        101.23\n",
      "263   BABA         103.1\n"
     ]
    }
   ],
   "source": [
    "## Get the list of WB stocks from downloaded file\n",
    "csvfile='%s/Work/DataSets/WB_Stocks/WB_Screener_20171225.csv'%HOME\n",
    "stklist=pd.read_csv(csvfile)\n",
    "stklist.head(5)\n",
    "stklist['1 Year Change'].replace('--',0.0,inplace=True)\n",
    "stklist.dropna(inplace=True)\n",
    "## Get short list of stocks that have fallen greater \n",
    "#than 10 % in last year\n",
    "shortList_short=stklist[stklist['1 Year Change'].astype(float)>=75]\n",
    "print shortList_short[['Symbol','1 Year Change']]"
   ]
  },
  {
   "cell_type": "code",
   "execution_count": null,
   "metadata": {
    "collapsed": false
   },
   "outputs": [
    {
     "name": "stdout",
     "output_type": "stream",
     "text": [
      "***** Get Financial Data from Morningstar *********\n"
     ]
    }
   ],
   "source": [
    "## Get The data for these shortlisted stocks\n",
    "SaveDir='%s/Work/DataSets/WB_Stocks/Data'%HOME\n",
    "Dir=M.GetMorningStartData(shortList['Symbol'],'WBStocks',savedir=SaveDir,virtual_display=True)\n",
    "print Dir"
   ]
  },
  {
   "cell_type": "code",
   "execution_count": null,
   "metadata": {
    "collapsed": false
   },
   "outputs": [],
   "source": [
    "## Append the data with valuation information such as PE, PB etc..\n",
    "IV.AppendStockDataFromFolder(Dir)"
   ]
  },
  {
   "cell_type": "code",
   "execution_count": 18,
   "metadata": {
    "collapsed": false
   },
   "outputs": [
    {
     "name": "stdout",
     "output_type": "stream",
     "text": [
      "At ER: 10 and Default CAGR: 8\n",
      "Stock| Price   | Intrin Val| CAGR\n",
      "*********************************\n",
      " MMP |   69.45|   113.47| 12.45\n",
      "CSRA |   30.28|    26.75|  8.00\n",
      " AAP |  101.96|    37.66|  2.73\n",
      "  T  |   39.06|    17.09|  0.24\n",
      " CHL |   49.96|     0.00|  8.00\n",
      " CVS |   73.68|    73.76|  8.28\n",
      " OMC |   73.35|    59.06|  5.35\n",
      "HSIC |   70.62|    65.70|  9.21\n",
      "  K  |   68.15|    33.82|  8.00\n",
      "VIAB |   31.87|    19.29|  3.86\n",
      "PDCO |   36.24|    26.42|  8.00\n",
      "CELG |  106.97|    89.04|  8.00\n",
      "CRTO |   24.99|    34.97| 14.71\n",
      " TEN |   58.35|    24.38|  5.22\n",
      " CPL |   11.35|     0.00|  8.00\n",
      " HOG |   51.77|    25.67|  1.64\n",
      " IBM |  152.83|    72.68|  0.52\n",
      " PAG |   48.24|    68.18| 12.20\n",
      "DISCA|   23.57|    14.86|  5.31\n",
      " WU  |   18.89|     6.68|  8.00\n",
      "SABR |   20.79|     7.98|  8.00\n",
      " SXT |   73.72|    29.49|  0.14\n",
      " CAH |   62.67|    28.22|  0.84\n",
      "ANDX |   46.43|    92.14| 13.24\n",
      "FFIV |  131.26|   145.44| 11.13\n",
      " KR  |   27.80|    19.35|  6.66\n",
      " HBI |   20.91|    19.56|  8.00\n",
      " CPB |   48.29|    27.72|  2.11\n",
      " IPG |   20.23|    17.89|  6.44\n",
      "ORLY |  244.65|   203.64|  8.00\n",
      "***** List of Stocks that meet CAGR>=8.0 and Expected-Return >=10.0 Criterion******\n",
      " MMP |   69.45|   113.47| 12.45 | 239\n",
      " CVS |   73.68|    73.76|  8.28 | 226\n",
      "CRTO |   24.99|    34.97| 14.71 | 666\n",
      " PAG |   48.24|    68.18| 12.20 | 345\n",
      "ANDX |   46.43|    92.14| 13.24 | 358\n",
      "FFIV |  131.26|   145.44| 11.13 | 126\n",
      "At ER: 10 and Default CAGR: 8\n",
      "Stock| Price   | Intrin Val| CAGR\n",
      "*********************************\n",
      " MMP |   69.45|   124.74|  8.00\n",
      "CSRA |   30.28|    27.70|  8.00\n",
      " AAP |  101.96|    59.27|  4.70\n",
      "  T  |   39.06|    29.30|  3.06\n",
      " CHL |   49.96|     0.00|  8.00\n",
      " CVS |   73.68|   126.33|  9.62\n",
      " OMC |   73.35|    91.77|  7.23\n",
      "HSIC |   70.62|   118.36| 10.44\n",
      "  K  |   68.15|    55.69|  8.00\n",
      "VIAB |   31.87|    32.65|  6.15\n",
      "PDCO |   36.24|    30.59|  8.00\n",
      "CELG |  106.97|    89.04|  8.00\n",
      "CRTO |   24.99|    33.22|  8.00\n",
      " TEN |   58.35|    24.38|  5.22\n",
      " CPL |   11.35|     0.00|  8.00\n",
      " HOG |   51.77|    25.67|  1.64\n",
      " IBM |  152.83|    96.64|  1.98\n",
      " PAG |   48.24|    68.18| 12.20\n",
      "DISCA|   23.57|    14.86|  5.31\n",
      " WU  |   18.89|     8.09|  8.00\n",
      "SABR |   20.79|     7.98|  8.00\n",
      " SXT |   73.72|    44.27|  2.50\n",
      " CAH |   62.67|    40.77|  2.87\n",
      "ANDX |   46.43|    92.14| 13.24\n",
      "FFIV |  131.26|   202.90|  8.00\n",
      " KR  |   27.80|    29.82|  8.00\n",
      " HBI |   20.91|    43.98|  8.00\n",
      " CPB |   48.29|    33.22|  2.12\n",
      " IPG |   20.23|    28.46|  8.00\n",
      "ORLY |  244.65|   503.30|  8.00\n",
      "***** List of Stocks that meet CAGR>=8.0 and Expected-Return >=10.0 Criterion******\n",
      " MMP |   69.45|   124.74|  8.00 | 119\n",
      " CVS |   73.68|   126.33|  9.62 | 113\n",
      " OMC |   73.35|    91.77|  7.23 | 113\n",
      "HSIC |   70.62|   118.36| 10.44 | 118\n",
      "VIAB |   31.87|    32.65|  6.15 | 261\n",
      " PAG |   48.24|    68.18| 12.20 | 172\n",
      "ANDX |   46.43|    92.14| 13.24 | 179\n",
      "FFIV |  131.26|   202.90|  8.00 |  63\n",
      " KR  |   27.80|    29.82|  8.00 | 299\n",
      " HBI |   20.91|    43.98|  8.00 | 398\n",
      " IPG |   20.23|    28.46|  8.00 | 411\n",
      "ORLY |  244.65|   503.30|  8.00 |  34\n"
     ]
    }
   ],
   "source": [
    "## Get list of stocks with min CAGR\n",
    "IV.IntrinsicValues(Dir,ER=10,Provided_CAGR=8,cagr_method='min')\n",
    "## Get list of stocks with avg CAGR\n",
    "IV.IntrinsicValues(Dir,ER=10,Provided_CAGR=8,cagr_method='avg')"
   ]
  },
  {
   "cell_type": "code",
   "execution_count": null,
   "metadata": {
    "collapsed": true
   },
   "outputs": [],
   "source": []
  }
 ],
 "metadata": {
  "kernelspec": {
   "display_name": "Python 2",
   "language": "python",
   "name": "python2"
  },
  "language_info": {
   "codemirror_mode": {
    "name": "ipython",
    "version": 2
   },
   "file_extension": ".py",
   "mimetype": "text/x-python",
   "name": "python",
   "nbconvert_exporter": "python",
   "pygments_lexer": "ipython2",
   "version": "2.7.12"
  }
 },
 "nbformat": 4,
 "nbformat_minor": 1
}

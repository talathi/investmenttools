{
 "cells": [
  {
   "cell_type": "code",
   "execution_count": 1,
   "metadata": {
    "collapsed": false
   },
   "outputs": [],
   "source": [
    "### Setup the environment\n",
    "import pandas as pd\n",
    "import pandas_datareader as web\n",
    "import numpy as np\n",
    "import datetime\n",
    "import matplotlib\n",
    "import os\n",
    "import scipy as sp\n",
    "import scipy.optimize as scopt\n",
    "import scipy.stats as spstats\n",
    "import warnings\n",
    "warnings.filterwarnings(\"ignore\")\n",
    "matplotlib.use('TKAgg')\n",
    "%matplotlib inline\n",
    "import pylab as py\n",
    "py.ion()\n",
    "\n",
    "HOME=os.environ['HOME']\n",
    "\n",
    "pd.set_option('display.notebook_repr_html', False)\n",
    "pd.set_option('display.max_columns', 6)\n",
    "pd.set_option('display.max_rows', 10)\n",
    "pd.set_option('display.width', 78)\n",
    "pd.set_option('precision', 3)"
   ]
  },
  {
   "cell_type": "code",
   "execution_count": 2,
   "metadata": {
    "collapsed": false,
    "scrolled": false
   },
   "outputs": [
    {
     "name": "stdout",
     "output_type": "stream",
     "text": [
      "['brk-b', 'gld', 'tlo', 'bsv']\n",
      "[25.0, 25.0, 25.0, 25.0]\n"
     ]
    }
   ],
   "source": [
    "## Get Portfolio\n",
    "import sys\n",
    "sys.path.append('%s/Work/Python/Git_Folder/investmenttools'%HOME)\n",
    "import investmenttools.PortfolioBuilder as PB\n",
    "P=PB.Portfolio('%s/Work/Python/Git_Folder/investmenttools/Simple_Portfolio.txt'%HOME)\n",
    "P.ReadPortfolio()\n",
    "P.Stocks=[s.replace('.','-') for s in P.Stocks]\n",
    "print P.Stocks\n",
    "print P.Weight"
   ]
  },
  {
   "cell_type": "code",
   "execution_count": 16,
   "metadata": {
    "collapsed": false
   },
   "outputs": [
    {
     "data": {
      "text/plain": [
       "Ticker      brk-b     bsv     gld     tlo\n",
       "Date                                     \n",
       "2010-01-04  66.22  69.667  109.80  42.437\n",
       "2010-01-05  66.54  69.842  109.70  42.829\n",
       "2010-01-06  66.20  69.789  111.51  42.533\n",
       "2010-01-07  66.46  69.807  110.82  42.397\n",
       "2010-01-08  66.44  69.789  111.37  42.469"
      ]
     },
     "execution_count": 16,
     "metadata": {},
     "output_type": "execute_result"
    }
   ],
   "source": [
    "### Get Historical Data for individual equity in the stock\n",
    "def get_historical_closes(tickers,start,end):\n",
    "    def data(ticker):\n",
    "        return web.DataReader(ticker, 'yahoo', start, end)\n",
    "    datas = map(data, tickers) ## this is a nice concept.. map applies function \"data\" to the items of sequence \"ticker\"\n",
    "    all_data=pd.concat(datas, keys=tickers, names=['Ticker','Date'])\n",
    "    all_data_reset = all_data[['Adj Close']].reset_index()\n",
    "    pivot = all_data_reset.pivot('Date', 'Ticker','Adj Close')\n",
    "    return pivot\n",
    "\n",
    "ticker=['shy','shyg','vgsh','vcsh']\n",
    "closes=get_historical_closes(P.Stocks,'2010-1-1','2012-12-31')\n",
    "closes.head()\n"
   ]
  },
  {
   "cell_type": "code",
   "execution_count": 4,
   "metadata": {
    "collapsed": false
   },
   "outputs": [
    {
     "data": {
      "text/plain": [
       "Ticker  brk-b    bsv    gld    tlo\n",
       "2010    0.210  0.038  0.263  0.088\n",
       "2011   -0.048  0.029  0.096  0.304\n",
       "2012    0.176  0.015  0.066  0.026"
      ]
     },
     "execution_count": 4,
     "metadata": {},
     "output_type": "execute_result"
    }
   ],
   "source": [
    "### Compute Annual Return for the Portfolio\n",
    "def calc_daily_returns(closes):\n",
    "    #Log of Pt/Pt-1\n",
    "    return np.log(closes/closes.shift(1))\n",
    "def calc_annual_returns(daily_returns):\n",
    "    grouped = np.exp(daily_returns.groupby(lambda date: date.year).sum())-1\n",
    "    return grouped\n",
    "\n",
    "daily_returns=calc_daily_returns(closes)\n",
    "annual_returns=calc_annual_returns(daily_returns)\n",
    "annual_returns.head()"
   ]
  },
  {
   "cell_type": "code",
   "execution_count": 15,
   "metadata": {
    "collapsed": false
   },
   "outputs": [
    {
     "name": "stdout",
     "output_type": "stream",
     "text": [
      "<class 'pandas.core.indexes.datetimes.DatetimeIndex'>\n"
     ]
    },
    {
     "data": {
      "text/plain": [
       "Ticker  brk-b    bsv    gld    tlo\n",
       "Ticker                            \n",
       "brk-b   1.000  0.354  0.139  0.298\n",
       "bsv     0.354  1.000  0.915  0.930\n",
       "gld     0.139  0.915  1.000  0.805\n",
       "tlo     0.298  0.930  0.805  1.000"
      ]
     },
     "execution_count": 15,
     "metadata": {},
     "output_type": "execute_result"
    }
   ],
   "source": [
    "nor_closes=closes/closes.iloc[0]\n",
    "print type(nor_closes.index)\n",
    "\n",
    "cv=nor_closes.corr()\n",
    "cv"
   ]
  },
  {
   "cell_type": "code",
   "execution_count": 5,
   "metadata": {
    "collapsed": false
   },
   "outputs": [
    {
     "name": "stdout",
     "output_type": "stream",
     "text": [
      "0.00163778147875\n"
     ]
    }
   ],
   "source": [
    "### Compute Portfolio Variance\n",
    "def calc_portfolio_var(returns,weights=None):\n",
    "    if weights is None:\n",
    "        weights=np.ones(returns.columns.size)/returns.columns.size ### returns is of type Data-Frame\n",
    "    sigma=np.cov(returns.T)\n",
    "    var=(weights*sigma*weights.T).sum()\n",
    "    return var\n",
    "print calc_portfolio_var(annual_returns)\n"
   ]
  },
  {
   "cell_type": "code",
   "execution_count": 6,
   "metadata": {
    "collapsed": false
   },
   "outputs": [
    {
     "name": "stdout",
     "output_type": "stream",
     "text": [
      "2.23298222754\n"
     ]
    }
   ],
   "source": [
    "## Compute Sharp Ratio: S=(E(R)-Rf)/sigma_p\n",
    "def sharpe_ratio(returns, weights = None, risk_free_rate = 0.015):\n",
    "    n = returns.columns.size\n",
    "    if weights is None: weights = np.ones(n)/n\n",
    "    var = calc_portfolio_var(returns, weights)\n",
    "    means = returns.mean()\n",
    "    return (means.dot(weights) - risk_free_rate)/np.sqrt(var)\n",
    "\n",
    "print sharpe_ratio(annual_returns)"
   ]
  },
  {
   "cell_type": "code",
   "execution_count": 7,
   "metadata": {
    "collapsed": false
   },
   "outputs": [
    {
     "name": "stdout",
     "output_type": "stream",
     "text": [
      "2.23298222754\n",
      "[ 0.25  0.25  0.25  0.25] 1.0\n",
      "4\n"
     ]
    }
   ],
   "source": [
    "### Construct an optimal portfolio\n",
    "def negative_sharpe_ratio_n_minus_1_stock(weights,returns,risk_free_rate):\n",
    "    \"\"\"\n",
    "    Given n-1 weights, return a negative sharpe ratio\n",
    "    \"\"\"\n",
    "    weights2 = sp.append(weights, 1-np.sum(weights))\n",
    "    #print weights2\n",
    "    return -sharpe_ratio(returns, weights2, risk_free_rate)\n",
    "\n",
    "def neg_sharp(weights,returns,risk_free_rate=0.01):\n",
    "    return -sharp_ratio(returns,weights,risk_free_rate)\n",
    "\n",
    "def optimize_portfolio(returns, risk_free_rate):\n",
    "    w0 = np.ones(returns.columns.size-1,dtype=float) * 1.0 / returns.columns.size\n",
    "    #w0=np.array([.2,0,0])\n",
    "    opt= scopt.minimize(negative_sharpe_ratio_n_minus_1_stock,w0, args=(returns, risk_free_rate),bounds=[(0,1),(0,1),(0,1)])\n",
    "    w1=opt.x\n",
    "    final_w = sp.append(w1, 1 - np.sum(w1))\n",
    "    final_sharpe = sharpe_ratio(returns, final_w, risk_free_rate)\n",
    "    print final_sharpe\n",
    "    return (final_w, final_sharpe)\n",
    "\n",
    "w,fs=optimize_portfolio(annual_returns, 0.015)\n",
    "print w, w.sum()\n",
    "print annual_returns.columns.size"
   ]
  },
  {
   "cell_type": "code",
   "execution_count": 8,
   "metadata": {
    "collapsed": false
   },
   "outputs": [
    {
     "name": "stdout",
     "output_type": "stream",
     "text": [
      "[ 0.03094631  0.03094003  0.03095769  0.90715597]\n"
     ]
    }
   ],
   "source": [
    "def neg_sharp(weights,returns,risk_free_rate=0.01):\n",
    "    return -sharpe_ratio(returns,weights,risk_free_rate)\n",
    "\n",
    "def direct_portfolio_optimize(returns,risk_free_rate=0.01):\n",
    "    w0 = np.ones(returns.columns.size,dtype=float) * 1.0 / returns.columns.size\n",
    "    bounds = [(0,1) for i in np.arange(returns.columns.size)]\n",
    "    constraints = ({'type': 'eq','fun': lambda W: np.sum(W) - 1})\n",
    "    results = scopt.minimize(neg_sharp, w0, (returns,risk_free_rate),method='SLSQP',constraints=constraints,bounds=bounds)\n",
    "    return results.x\n",
    "\n",
    "print direct_portfolio_optimize(annual_returns)"
   ]
  },
  {
   "cell_type": "code",
   "execution_count": 9,
   "metadata": {
    "collapsed": false
   },
   "outputs": [
    {
     "name": "stdout",
     "output_type": "stream",
     "text": [
      "Sub-optimal portfolio returns: 0.105367703184\n",
      "Optimal Portfolio returns: 0.135377203153\n"
     ]
    }
   ],
   "source": [
    "w0=np.ones(annual_returns.columns.size,dtype=float) * 1.0 / annual_returns.columns.size\n",
    "R_suboptimal=w0*annual_returns\n",
    "print 'Sub-optimal portfolio returns:', R_suboptimal.mean(axis=0).sum()\n",
    "w_optim=direct_portfolio_optimize(annual_returns)\n",
    "R_optimal=w_optim*annual_returns\n",
    "print 'Optimal Portfolio returns:', R_optimal.mean(axis=0).sum()"
   ]
  },
  {
   "cell_type": "code",
   "execution_count": 10,
   "metadata": {
    "collapsed": false
   },
   "outputs": [],
   "source": [
    "## Efficient Frontier Calculation\n",
    "def objfun(W, R, target_ret):\n",
    "    stock_mean = np.mean(R,axis=0)\n",
    "    port_mean = np.dot(W,stock_mean)\n",
    "    cov=np.cov(R.T)\n",
    "    port_var = np.dot(np.dot(W,cov),W.T)\n",
    "    penalty = 2000*abs(port_mean-target_ret)\n",
    "    return np.sqrt(port_var) + penalty\n",
    "\n",
    "\n",
    "def calc_efficient_frontier(returns):\n",
    "    result_means = []\n",
    "    result_stds = []\n",
    "    result_weights = []\n",
    "    means = returns.mean()\n",
    "    min_mean, max_mean = means.min(), means.max()\n",
    "    nstocks = returns.columns.size\n",
    "    for r in np.linspace(min_mean, max_mean, 100):\n",
    "        weights = np.ones(nstocks)/nstocks\n",
    "        bounds = [(0,1) for i in np.arange(nstocks)]\n",
    "        constraints = ({'type': 'eq','fun': lambda W: np.sum(W) - 1})\n",
    "        results = scopt.minimize(objfun, weights, (returns, r),\n",
    "        method='SLSQP',\n",
    "        constraints = constraints,\n",
    "        bounds = bounds)\n",
    "        if not results.success: # handle error\n",
    "            raise Exception(result.message)\n",
    "        result_means.append(np.round(r,4)) # 4 decimal places\n",
    "        std_=np.round(np.std(np.sum(returns*results.x,axis=1)),6)\n",
    "        result_stds.append(std_)\n",
    "        result_weights.append(np.round(results.x, 5))\n",
    "    return {'Means': result_means,'Stds': result_stds,'Weights': result_weights}\n",
    "\n",
    "frontier_data = calc_efficient_frontier(annual_returns)"
   ]
  },
  {
   "cell_type": "code",
   "execution_count": 11,
   "metadata": {
    "collapsed": false
   },
   "outputs": [
    {
     "data": {
      "image/png": "[encoded data removed]",
      "text/plain": [
       "<matplotlib.figure.Figure at 0x7f7117e06210>"
      ]
     },
     "metadata": {},
     "output_type": "display_data"
    }
   ],
   "source": [
    "def plot_efficient_frontier(ef_data):\n",
    "    py.figure(figsize=(12,8))\n",
    "    py.title('Efficient Frontier')\n",
    "    py.xlabel('Standard Deviation of the porfolio (Risk))')\n",
    "    py.ylabel('Return of the portfolio')\n",
    "    py.plot(ef_data['Stds'], ef_data['Means'], '--');\n",
    "\n",
    "plot_efficient_frontier(frontier_data)"
   ]
  },
  {
   "cell_type": "code",
   "execution_count": null,
   "metadata": {
    "collapsed": true
   },
   "outputs": [],
   "source": []
  }
 ],
 "metadata": {
  "kernelspec": {
   "display_name": "Python 2",
   "language": "python",
   "name": "python2"
  },
  "language_info": {
   "codemirror_mode": {
    "name": "ipython",
    "version": 2
   },
   "file_extension": ".py",
   "mimetype": "text/x-python",
   "name": "python",
   "nbconvert_exporter": "python",
   "pygments_lexer": "ipython2",
   "version": "2.7.12"
  }
 },
 "nbformat": 4,
 "nbformat_minor": 1
}
